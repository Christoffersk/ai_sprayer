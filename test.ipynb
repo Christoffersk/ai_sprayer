{
 "cells": [
  {
   "cell_type": "code",
   "execution_count": 1,
   "metadata": {},
   "outputs": [
    {
     "name": "stdout",
     "output_type": "stream",
     "text": [
      "cat\n",
      "chair\n",
      "chair\n",
      "chair\n",
      "dining table\n",
      "{'success': True, 'predictions': [{'confidence': 0.9074082, 'label': 'cat', 'y_min': 78, 'x_min': 175, 'y_max': 254, 'x_max': 303}, {'confidence': 0.9193769, 'label': 'chair', 'y_min': 113, 'x_min': 287, 'y_max': 269, 'x_max': 426}, {'confidence': 0.8733126, 'label': 'chair', 'y_min': 88, 'x_min': 128, 'y_max': 249, 'x_max': 303}, {'confidence': 0.6512057, 'label': 'chair', 'y_min': 110, 'x_min': 113, 'y_max': 254, 'x_max': 203}, {'confidence': 0.98352224, 'label': 'dining table', 'y_min': 238, 'x_min': 26, 'y_max': 334, 'x_max': 471}]}\n"
     ]
    }
   ],
   "source": [
    "import requests\n",
    "\n",
    "image_data = open(\"cat.jpg\", \"rb\").read()\n",
    "\n",
    "response = requests.post(\n",
    "    \"http://192.168.1.2:8109/v1/vision/detection\", files={\"image\": image_data}\n",
    ").json()\n",
    "\n",
    "for object in response[\"predictions\"]:\n",
    "    print(object[\"label\"])\n",
    "\n",
    "print(response)\n"
   ]
  },
  {
   "cell_type": "code",
   "execution_count": 2,
   "metadata": {},
   "outputs": [
    {
     "name": "stdout",
     "output_type": "stream",
     "text": [
      "0.9074082\n",
      "0.9193769\n",
      "0.8733126\n",
      "0.6512057\n",
      "0.98352224\n"
     ]
    }
   ],
   "source": [
    "for prediction in response[\"predictions\"]:\n",
    "    print(prediction[\"confidence\"])"
   ]
  },
  {
   "cell_type": "code",
   "execution_count": 14,
   "metadata": {},
   "outputs": [],
   "source": [
    "# importing image object from PIL \n",
    "import math \n",
    "from PIL import Image, ImageDraw \n",
    "\n",
    "img = Image.open(\"cat.jpg\").convert(\"RGBA\")\n",
    "for prediction in response[\"predictions\"]:\n",
    "    if prediction[\"label\"] == \"cat\" and prediction[\"confidence\"] > 0.5:\n",
    "        shape = [(prediction[\"x_min\"], prediction[\"y_min\"]), (prediction[\"x_max\"], prediction[\"y_max\"])] \n",
    "\n",
    "        # create rectangle image \n",
    "        img1 = ImageDraw.Draw(img)   \n",
    "        img1.rectangle(shape, outline=\"red\", width=3) \n",
    "        img1.text((prediction[\"x_min\"], prediction[\"y_min\"]), str(prediction[\"confidence\"]))\n",
    "        img1.text((prediction[\"x_min\"], prediction[\"y_min\"]+30), str(prediction[\"label\"]))\n",
    "\n",
    "\n",
    "img.show() "
   ]
  },
  {
   "cell_type": "code",
   "execution_count": 15,
   "metadata": {},
   "outputs": [
    {
     "data": {
      "text/plain": [
       "{'confidence': 0.9074082,\n",
       " 'label': 'cat',\n",
       " 'y_min': 78,\n",
       " 'x_min': 175,\n",
       " 'y_max': 254,\n",
       " 'x_max': 303}"
      ]
     },
     "execution_count": 15,
     "metadata": {},
     "output_type": "execute_result"
    }
   ],
   "source": [
    "response[\"predictions\"][0]"
   ]
  },
  {
   "cell_type": "code",
   "execution_count": null,
   "metadata": {},
   "outputs": [],
   "source": []
  }
 ],
 "metadata": {
  "kernelspec": {
   "display_name": "Python 3",
   "language": "python",
   "name": "python3"
  },
  "language_info": {
   "codemirror_mode": {
    "name": "ipython",
    "version": 3
   },
   "file_extension": ".py",
   "mimetype": "text/x-python",
   "name": "python",
   "nbconvert_exporter": "python",
   "pygments_lexer": "ipython3",
   "version": "3.8.5"
  }
 },
 "nbformat": 4,
 "nbformat_minor": 4
}
